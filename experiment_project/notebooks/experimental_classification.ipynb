{
 "cells": [
  {
   "cell_type": "code",
   "execution_count": 1,
   "metadata": {},
   "outputs": [],
   "source": [
    "import pandas as pd\n",
    "import numpy as np\n",
    "from sklearn.neighbors import KNeighborsClassifier\n",
    "from sklearn.ensemble import RandomForestClassifier\n",
    "from sklearn.linear_model import LogisticRegression\n",
    "from sklearn import metrics as mt\n",
    "from sklearn import tree as tr\n"
   ]
  },
  {
   "cell_type": "markdown",
   "metadata": {},
   "source": [
    "# Importando Datasets Treino - Validacao - Teste"
   ]
  },
  {
   "cell_type": "code",
   "execution_count": 2,
   "metadata": {},
   "outputs": [],
   "source": [
    "# x_train = pd.read_csv('../datasets/classification/X_training.csv')\n",
    "# y_train = pd.read_csv('../datasets/classification/y_training.csv')\n",
    "\n",
    "# x_validation = pd.read_csv('../datasets/classification/X_validation.csv')\n",
    "# y_validation = pd.read_csv('../datasets/classification/y_validation.csv')\n",
    "\n",
    "# x_test = pd.read_csv('../datasets/classification/X_test.csv')\n",
    "# y_test = pd.read_csv('../datasets/classification/y_test.csv')\n"
   ]
  },
  {
   "cell_type": "markdown",
   "metadata": {},
   "source": [
    "# KNN - Classifier"
   ]
  },
  {
   "cell_type": "code",
   "execution_count": 3,
   "metadata": {},
   "outputs": [],
   "source": [
    "# features = ['customer_type', 'age', 'class', 'flight_distance',\n",
    "#        'inflight_wifi_service', 'departure_arrival_time_convenient',\n",
    "#        'ease_of_online_booking', 'gate_location', 'food_and_drink',\n",
    "#        'online_boarding', 'seat_comfort', 'inflight_entertainment',\n",
    "#        'on_board_service', 'leg_room_service', 'baggage_handling',\n",
    "#        'checkin_service', 'inflight_service', 'cleanliness',\n",
    "#        'departure_delay_in_minutes', 'arrival_delay_in_minutes',\n",
    "#        'gender_Female', 'gender_Male', 'type_of_travel_business_travel',\n",
    "#        'type_of_travel_personal_travel']\n",
    "\n",
    "# x_train = x_train.loc[:,features]\n",
    "# x_validation = x_validation.loc[:,features]\n",
    "# x_test = x_test.loc[:,features]"
   ]
  },
  {
   "cell_type": "code",
   "execution_count": 4,
   "metadata": {},
   "outputs": [
    {
     "name": "stderr",
     "output_type": "stream",
     "text": [
      "/home/nemerv/.pyenv/versions/fundamentos_ml/lib/python3.10/site-packages/sklearn/neighbors/_classification.py:238: DataConversionWarning: A column-vector y was passed when a 1d array was expected. Please change the shape of y to (n_samples,), for example using ravel().\n",
      "  return self._fit(X, y)\n"
     ]
    },
    {
     "name": "stdout",
     "output_type": "stream",
     "text": [
      "k = 1\n",
      "Accuracy: 0.9139611956626661\n",
      "Precision: 0.9178601842533096\n",
      "Recall: 0.8802435221620016\n",
      "F1 Score: 0.8986583794436444\n",
      "\n",
      "\n"
     ]
    },
    {
     "name": "stderr",
     "output_type": "stream",
     "text": [
      "/home/nemerv/.pyenv/versions/fundamentos_ml/lib/python3.10/site-packages/sklearn/neighbors/_classification.py:238: DataConversionWarning: A column-vector y was passed when a 1d array was expected. Please change the shape of y to (n_samples,), for example using ravel().\n",
      "  return self._fit(X, y)\n"
     ]
    },
    {
     "name": "stdout",
     "output_type": "stream",
     "text": [
      "k = 2\n",
      "Accuracy: 0.9106470607162392\n",
      "Precision: 0.9681260945709282\n",
      "Recall: 0.8208478728933105\n",
      "F1 Score: 0.888424605247298\n",
      "\n",
      "\n"
     ]
    },
    {
     "name": "stderr",
     "output_type": "stream",
     "text": [
      "/home/nemerv/.pyenv/versions/fundamentos_ml/lib/python3.10/site-packages/sklearn/neighbors/_classification.py:238: DataConversionWarning: A column-vector y was passed when a 1d array was expected. Please change the shape of y to (n_samples,), for example using ravel().\n",
      "  return self._fit(X, y)\n"
     ]
    },
    {
     "name": "stdout",
     "output_type": "stream",
     "text": [
      "k = 3\n",
      "Accuracy: 0.9235174876926542\n",
      "Precision: 0.94254707947654\n",
      "Recall: 0.8769767614522236\n",
      "F1 Score: 0.9085804392138764\n",
      "\n",
      "\n"
     ]
    },
    {
     "name": "stderr",
     "output_type": "stream",
     "text": [
      "/home/nemerv/.pyenv/versions/fundamentos_ml/lib/python3.10/site-packages/sklearn/neighbors/_classification.py:238: DataConversionWarning: A column-vector y was passed when a 1d array was expected. Please change the shape of y to (n_samples,), for example using ravel().\n",
      "  return self._fit(X, y)\n"
     ]
    },
    {
     "name": "stdout",
     "output_type": "stream",
     "text": [
      "k = 4\n",
      "Accuracy: 0.9183693169020882\n",
      "Precision: 0.9651123213070115\n",
      "Recall: 0.8420818175068676\n",
      "F1 Score: 0.8994092224733358\n",
      "\n",
      "\n"
     ]
    },
    {
     "name": "stderr",
     "output_type": "stream",
     "text": [
      "/home/nemerv/.pyenv/versions/fundamentos_ml/lib/python3.10/site-packages/sklearn/neighbors/_classification.py:238: DataConversionWarning: A column-vector y was passed when a 1d array was expected. Please change the shape of y to (n_samples,), for example using ravel().\n",
      "  return self._fit(X, y)\n"
     ]
    },
    {
     "name": "stdout",
     "output_type": "stream",
     "text": [
      "k = 5\n",
      "Accuracy: 0.9252228192670292\n",
      "Precision: 0.9487076254126742\n",
      "Recall: 0.8747494246046477\n",
      "F1 Score: 0.9102286773794809\n",
      "\n",
      "\n"
     ]
    },
    {
     "name": "stderr",
     "output_type": "stream",
     "text": [
      "/home/nemerv/.pyenv/versions/fundamentos_ml/lib/python3.10/site-packages/sklearn/neighbors/_classification.py:238: DataConversionWarning: A column-vector y was passed when a 1d array was expected. Please change the shape of y to (n_samples,), for example using ravel().\n",
      "  return self._fit(X, y)\n"
     ]
    },
    {
     "name": "stdout",
     "output_type": "stream",
     "text": [
      "k = 6\n",
      "Accuracy: 0.9208790501624892\n",
      "Precision: 0.9621390194761585\n",
      "Recall: 0.8509169203355854\n",
      "F1 Score: 0.903116504471849\n",
      "\n",
      "\n"
     ]
    },
    {
     "name": "stderr",
     "output_type": "stream",
     "text": [
      "/home/nemerv/.pyenv/versions/fundamentos_ml/lib/python3.10/site-packages/sklearn/neighbors/_classification.py:238: DataConversionWarning: A column-vector y was passed when a 1d array was expected. Please change the shape of y to (n_samples,), for example using ravel().\n",
      "  return self._fit(X, y)\n"
     ]
    },
    {
     "name": "stdout",
     "output_type": "stream",
     "text": [
      "k = 7\n",
      "Accuracy: 0.9254158756716754\n",
      "Precision: 0.9515671823114926\n",
      "Recall: 0.8722993540723142\n",
      "F1 Score: 0.9102107220328478\n",
      "\n",
      "\n"
     ]
    },
    {
     "name": "stderr",
     "output_type": "stream",
     "text": [
      "/home/nemerv/.pyenv/versions/fundamentos_ml/lib/python3.10/site-packages/sklearn/neighbors/_classification.py:238: DataConversionWarning: A column-vector y was passed when a 1d array was expected. Please change the shape of y to (n_samples,), for example using ravel().\n",
      "  return self._fit(X, y)\n"
     ]
    },
    {
     "name": "stdout",
     "output_type": "stream",
     "text": [
      "k = 8\n",
      "Accuracy: 0.9222304449950127\n",
      "Precision: 0.9625041848008035\n",
      "Recall: 0.8538124582374341\n",
      "F1 Score: 0.904906165165047\n",
      "\n",
      "\n"
     ]
    },
    {
     "name": "stderr",
     "output_type": "stream",
     "text": [
      "/home/nemerv/.pyenv/versions/fundamentos_ml/lib/python3.10/site-packages/sklearn/neighbors/_classification.py:238: DataConversionWarning: A column-vector y was passed when a 1d array was expected. Please change the shape of y to (n_samples,), for example using ravel().\n",
      "  return self._fit(X, y)\n"
     ]
    },
    {
     "name": "stdout",
     "output_type": "stream",
     "text": [
      "k = 9\n",
      "Accuracy: 0.9260272209530551\n",
      "Precision: 0.9544344995931652\n",
      "Recall: 0.8708887074021828\n",
      "F1 Score: 0.9107496409022089\n",
      "\n",
      "\n"
     ]
    },
    {
     "name": "stderr",
     "output_type": "stream",
     "text": [
      "/home/nemerv/.pyenv/versions/fundamentos_ml/lib/python3.10/site-packages/sklearn/neighbors/_classification.py:238: DataConversionWarning: A column-vector y was passed when a 1d array was expected. Please change the shape of y to (n_samples,), for example using ravel().\n",
      "  return self._fit(X, y)\n"
     ]
    },
    {
     "name": "stdout",
     "output_type": "stream",
     "text": [
      "k = 10\n",
      "Accuracy: 0.9232600791531259\n",
      "Precision: 0.9623727682296012\n",
      "Recall: 0.8564110178929394\n",
      "F1 Score: 0.9063052445492045\n",
      "\n",
      "\n"
     ]
    },
    {
     "name": "stderr",
     "output_type": "stream",
     "text": [
      "/home/nemerv/.pyenv/versions/fundamentos_ml/lib/python3.10/site-packages/sklearn/neighbors/_classification.py:238: DataConversionWarning: A column-vector y was passed when a 1d array was expected. Please change the shape of y to (n_samples,), for example using ravel().\n",
      "  return self._fit(X, y)\n"
     ]
    },
    {
     "name": "stdout",
     "output_type": "stream",
     "text": [
      "k = 11\n",
      "Accuracy: 0.9260915730879372\n",
      "Precision: 0.955702398433676\n",
      "Recall: 0.8697750389783948\n",
      "F1 Score: 0.9107163680180356\n",
      "\n",
      "\n"
     ]
    },
    {
     "name": "stderr",
     "output_type": "stream",
     "text": [
      "/home/nemerv/.pyenv/versions/fundamentos_ml/lib/python3.10/site-packages/sklearn/neighbors/_classification.py:238: DataConversionWarning: A column-vector y was passed when a 1d array was expected. Please change the shape of y to (n_samples,), for example using ravel().\n",
      "  return self._fit(X, y)\n"
     ]
    },
    {
     "name": "stdout",
     "output_type": "stream",
     "text": [
      "k = 12\n",
      "Accuracy: 0.923356607355449\n",
      "Precision: 0.9624593309418537\n",
      "Recall: 0.856559507016111\n",
      "F1 Score: 0.9064267756128221\n",
      "\n",
      "\n"
     ]
    },
    {
     "name": "stderr",
     "output_type": "stream",
     "text": [
      "/home/nemerv/.pyenv/versions/fundamentos_ml/lib/python3.10/site-packages/sklearn/neighbors/_classification.py:238: DataConversionWarning: A column-vector y was passed when a 1d array was expected. Please change the shape of y to (n_samples,), for example using ravel().\n",
      "  return self._fit(X, y)\n"
     ]
    },
    {
     "name": "stdout",
     "output_type": "stream",
     "text": [
      "k = 13\n",
      "Accuracy: 0.9264776858972297\n",
      "Precision: 0.9567134923227704\n",
      "Recall: 0.8697007944168089\n",
      "F1 Score: 0.9111344456111694\n",
      "\n",
      "\n"
     ]
    },
    {
     "name": "stderr",
     "output_type": "stream",
     "text": [
      "/home/nemerv/.pyenv/versions/fundamentos_ml/lib/python3.10/site-packages/sklearn/neighbors/_classification.py:238: DataConversionWarning: A column-vector y was passed when a 1d array was expected. Please change the shape of y to (n_samples,), for example using ravel().\n",
      "  return self._fit(X, y)\n"
     ]
    },
    {
     "name": "stdout",
     "output_type": "stream",
     "text": [
      "k = 14\n",
      "Accuracy: 0.9239036005019466\n",
      "Precision: 0.9621275178957882\n",
      "Recall: 0.8581928873710001\n",
      "F1 Score: 0.9071930306478829\n",
      "\n",
      "\n"
     ]
    },
    {
     "name": "stderr",
     "output_type": "stream",
     "text": [
      "/home/nemerv/.pyenv/versions/fundamentos_ml/lib/python3.10/site-packages/sklearn/neighbors/_classification.py:238: DataConversionWarning: A column-vector y was passed when a 1d array was expected. Please change the shape of y to (n_samples,), for example using ravel().\n",
      "  return self._fit(X, y)\n"
     ]
    },
    {
     "name": "stdout",
     "output_type": "stream",
     "text": [
      "k = 15\n",
      "Accuracy: 0.9265098619646707\n",
      "Precision: 0.9573893841498323\n",
      "Recall: 0.869106837924122\n",
      "F1 Score: 0.9111145703611457\n",
      "\n",
      "\n"
     ]
    },
    {
     "name": "stderr",
     "output_type": "stream",
     "text": [
      "/home/nemerv/.pyenv/versions/fundamentos_ml/lib/python3.10/site-packages/sklearn/neighbors/_classification.py:238: DataConversionWarning: A column-vector y was passed when a 1d array was expected. Please change the shape of y to (n_samples,), for example using ravel().\n",
      "  return self._fit(X, y)\n"
     ]
    },
    {
     "name": "stdout",
     "output_type": "stream",
     "text": [
      "k = 16\n",
      "Accuracy: 0.9236461919624184\n",
      "Precision: 0.9612570668440306\n",
      "Recall: 0.8584156210557576\n",
      "F1 Score: 0.9069302270855395\n",
      "\n",
      "\n"
     ]
    },
    {
     "name": "stderr",
     "output_type": "stream",
     "text": [
      "/home/nemerv/.pyenv/versions/fundamentos_ml/lib/python3.10/site-packages/sklearn/neighbors/_classification.py:238: DataConversionWarning: A column-vector y was passed when a 1d array was expected. Please change the shape of y to (n_samples,), for example using ravel().\n",
      "  return self._fit(X, y)\n"
     ]
    },
    {
     "name": "stdout",
     "output_type": "stream",
     "text": [
      "k = 17\n",
      "Accuracy: 0.9257054602786448\n",
      "Precision: 0.9570773263433814\n",
      "Recall: 0.8674734575692331\n",
      "F1 Score: 0.9100751645441446\n",
      "\n",
      "\n"
     ]
    },
    {
     "name": "stderr",
     "output_type": "stream",
     "text": [
      "/home/nemerv/.pyenv/versions/fundamentos_ml/lib/python3.10/site-packages/sklearn/neighbors/_classification.py:238: DataConversionWarning: A column-vector y was passed when a 1d array was expected. Please change the shape of y to (n_samples,), for example using ravel().\n",
      "  return self._fit(X, y)\n"
     ]
    },
    {
     "name": "stdout",
     "output_type": "stream",
     "text": [
      "k = 18\n",
      "Accuracy: 0.9242897133112391\n",
      "Precision: 0.9618580688050523\n",
      "Recall: 0.8593808003563739\n",
      "F1 Score: 0.9077363447437556\n",
      "\n",
      "\n"
     ]
    },
    {
     "name": "stderr",
     "output_type": "stream",
     "text": [
      "/home/nemerv/.pyenv/versions/fundamentos_ml/lib/python3.10/site-packages/sklearn/neighbors/_classification.py:238: DataConversionWarning: A column-vector y was passed when a 1d array was expected. Please change the shape of y to (n_samples,), for example using ravel().\n",
      "  return self._fit(X, y)\n"
     ]
    },
    {
     "name": "stdout",
     "output_type": "stream",
     "text": [
      "k = 19\n",
      "Accuracy: 0.925962868818173\n",
      "Precision: 0.9574049803407602\n",
      "Recall: 0.8677704358155766\n",
      "F1 Score: 0.9103867274214278\n",
      "\n",
      "\n"
     ]
    },
    {
     "name": "stderr",
     "output_type": "stream",
     "text": [
      "/home/nemerv/.pyenv/versions/fundamentos_ml/lib/python3.10/site-packages/sklearn/neighbors/_classification.py:238: DataConversionWarning: A column-vector y was passed when a 1d array was expected. Please change the shape of y to (n_samples,), for example using ravel().\n",
      "  return self._fit(X, y)\n"
     ]
    },
    {
     "name": "stdout",
     "output_type": "stream",
     "text": [
      "k = 20\n",
      "Accuracy: 0.9240001287042697\n",
      "Precision: 0.9613691119049597\n",
      "Recall: 0.8591580666716163\n",
      "F1 Score: 0.9073943385869991\n",
      "\n",
      "\n"
     ]
    },
    {
     "name": "stderr",
     "output_type": "stream",
     "text": [
      "/home/nemerv/.pyenv/versions/fundamentos_ml/lib/python3.10/site-packages/sklearn/neighbors/_classification.py:238: DataConversionWarning: A column-vector y was passed when a 1d array was expected. Please change the shape of y to (n_samples,), for example using ravel().\n",
      "  return self._fit(X, y)\n"
     ]
    },
    {
     "name": "stdout",
     "output_type": "stream",
     "text": [
      "k = 21\n",
      "Accuracy: 0.9251262910647061\n",
      "Precision: 0.9571639586410635\n",
      "Recall: 0.8659885663375158\n",
      "F1 Score: 0.9092964334437731\n",
      "\n",
      "\n"
     ]
    },
    {
     "name": "stderr",
     "output_type": "stream",
     "text": [
      "/home/nemerv/.pyenv/versions/fundamentos_ml/lib/python3.10/site-packages/sklearn/neighbors/_classification.py:238: DataConversionWarning: A column-vector y was passed when a 1d array was expected. Please change the shape of y to (n_samples,), for example using ravel().\n",
      "  return self._fit(X, y)\n"
     ]
    },
    {
     "name": "stdout",
     "output_type": "stream",
     "text": [
      "k = 22\n",
      "Accuracy: 0.923324431288008\n",
      "Precision: 0.96045854793155\n",
      "Recall: 0.8584156210557576\n",
      "F1 Score: 0.9065746657780217\n",
      "\n",
      "\n"
     ]
    },
    {
     "name": "stderr",
     "output_type": "stream",
     "text": [
      "/home/nemerv/.pyenv/versions/fundamentos_ml/lib/python3.10/site-packages/sklearn/neighbors/_classification.py:238: DataConversionWarning: A column-vector y was passed when a 1d array was expected. Please change the shape of y to (n_samples,), for example using ravel().\n",
      "  return self._fit(X, y)\n"
     ]
    },
    {
     "name": "stdout",
     "output_type": "stream",
     "text": [
      "k = 23\n",
      "Accuracy: 0.9252228192670292\n",
      "Precision: 0.9575498809426062\n",
      "Recall: 0.8658400772143441\n",
      "F1 Score: 0.9093886462882096\n",
      "\n",
      "\n"
     ]
    },
    {
     "name": "stderr",
     "output_type": "stream",
     "text": [
      "/home/nemerv/.pyenv/versions/fundamentos_ml/lib/python3.10/site-packages/sklearn/neighbors/_classification.py:238: DataConversionWarning: A column-vector y was passed when a 1d array was expected. Please change the shape of y to (n_samples,), for example using ravel().\n",
      "  return self._fit(X, y)\n"
     ]
    },
    {
     "name": "stdout",
     "output_type": "stream",
     "text": [
      "k = 24\n",
      "Accuracy: 0.9233887834228901\n",
      "Precision: 0.9604651162790697\n",
      "Recall: 0.8585641101789294\n",
      "F1 Score: 0.9066603943706143\n",
      "\n",
      "\n"
     ]
    },
    {
     "name": "stderr",
     "output_type": "stream",
     "text": [
      "/home/nemerv/.pyenv/versions/fundamentos_ml/lib/python3.10/site-packages/sklearn/neighbors/_classification.py:238: DataConversionWarning: A column-vector y was passed when a 1d array was expected. Please change the shape of y to (n_samples,), for example using ravel().\n",
      "  return self._fit(X, y)\n"
     ]
    },
    {
     "name": "stdout",
     "output_type": "stream",
     "text": [
      "k = 25\n",
      "Accuracy: 0.9240323047717108\n",
      "Precision: 0.9568185556835006\n",
      "Recall: 0.863686984928354\n",
      "F1 Score: 0.9078706052210559\n",
      "\n",
      "\n"
     ]
    },
    {
     "name": "stderr",
     "output_type": "stream",
     "text": [
      "/home/nemerv/.pyenv/versions/fundamentos_ml/lib/python3.10/site-packages/sklearn/neighbors/_classification.py:238: DataConversionWarning: A column-vector y was passed when a 1d array was expected. Please change the shape of y to (n_samples,), for example using ravel().\n",
      "  return self._fit(X, y)\n"
     ]
    },
    {
     "name": "stdout",
     "output_type": "stream",
     "text": [
      "k = 26\n",
      "Accuracy: 0.9226487338717462\n",
      "Precision: 0.9597772791490069\n",
      "Recall: 0.8574504417551414\n",
      "F1 Score: 0.9057328836953964\n",
      "\n",
      "\n"
     ]
    },
    {
     "name": "stderr",
     "output_type": "stream",
     "text": [
      "/home/nemerv/.pyenv/versions/fundamentos_ml/lib/python3.10/site-packages/sklearn/neighbors/_classification.py:238: DataConversionWarning: A column-vector y was passed when a 1d array was expected. Please change the shape of y to (n_samples,), for example using ravel().\n",
      "  return self._fit(X, y)\n"
     ]
    },
    {
     "name": "stdout",
     "output_type": "stream",
     "text": [
      "k = 27\n",
      "Accuracy: 0.923356607355449\n",
      "Precision: 0.9563678274471062\n",
      "Recall: 0.8624990719429801\n",
      "F1 Score: 0.9070112429731418\n",
      "\n",
      "\n"
     ]
    },
    {
     "name": "stderr",
     "output_type": "stream",
     "text": [
      "/home/nemerv/.pyenv/versions/fundamentos_ml/lib/python3.10/site-packages/sklearn/neighbors/_classification.py:238: DataConversionWarning: A column-vector y was passed when a 1d array was expected. Please change the shape of y to (n_samples,), for example using ravel().\n",
      "  return self._fit(X, y)\n"
     ]
    },
    {
     "name": "stdout",
     "output_type": "stream",
     "text": [
      "k = 28\n",
      "Accuracy: 0.9218121561182793\n",
      "Precision: 0.9593076474993759\n",
      "Recall: 0.8558913059618383\n",
      "F1 Score: 0.9046535352742682\n",
      "\n",
      "\n"
     ]
    },
    {
     "name": "stderr",
     "output_type": "stream",
     "text": [
      "/home/nemerv/.pyenv/versions/fundamentos_ml/lib/python3.10/site-packages/sklearn/neighbors/_classification.py:238: DataConversionWarning: A column-vector y was passed when a 1d array was expected. Please change the shape of y to (n_samples,), for example using ravel().\n",
      "  return self._fit(X, y)\n"
     ]
    },
    {
     "name": "stdout",
     "output_type": "stream",
     "text": [
      "k = 29\n",
      "Accuracy: 0.9223269731973358\n",
      "Precision: 0.9558762886597938\n",
      "Recall: 0.8604944687801619\n",
      "F1 Score: 0.9056810189888255\n",
      "\n",
      "\n"
     ]
    }
   ],
   "source": [
    "# values = [k for k in range(1,30)]\n",
    "\n",
    "# val_scores = list()\n",
    "# for k in values: \n",
    "#     knn_classfier =  KNeighborsClassifier( n_neighbors = k)\n",
    "#     knn_classfier.fit(x_train,y_train)\n",
    "\n",
    "\n",
    "#     y_pred = knn_classfier.predict(x_validation)\n",
    "#     scores = {\n",
    "#         'k': k,\n",
    "#         'accuracy': mt.accuracy_score(y_validation, y_pred),\n",
    "#         'precision': mt.precision_score(y_validation, y_pred),\n",
    "#         'recall': mt.recall_score(y_validation, y_pred),\n",
    "#         'f1_score': mt.f1_score(y_validation, y_pred)\n",
    "#      }\n",
    "\n",
    "#     val_scores.append(scores)\n",
    "\n",
    "#     print(f\"k = {k}\")\n",
    "#     print(f\"Accuracy: {scores['accuracy']}\")\n",
    "#     print(f\"Precision: {scores['precision']}\")\n",
    "#     print(f\"Recall: {scores['recall']}\")\n",
    "#     print(f\"F1 Score: {scores['f1_score']}\")\n",
    "#     print(\"\\n\")\n"
   ]
  },
  {
   "cell_type": "code",
   "execution_count": 8,
   "metadata": {},
   "outputs": [
    {
     "name": "stderr",
     "output_type": "stream",
     "text": [
      "/home/nemerv/.pyenv/versions/fundamentos_ml/lib/python3.10/site-packages/sklearn/neighbors/_classification.py:238: DataConversionWarning: A column-vector y was passed when a 1d array was expected. Please change the shape of y to (n_samples,), for example using ravel().\n",
      "  return self._fit(X, y)\n"
     ]
    },
    {
     "name": "stdout",
     "output_type": "stream",
     "text": [
      "Recall Train: 0.8805841924398625\n",
      "Accuracy Train: 0.9406053919878645\n",
      "Precision Train: 0.9803747918806901\n",
      "F1 Score Train: 0.927803945890675\n"
     ]
    }
   ],
   "source": [
    "# model_last = KNeighborsClassifier( n_neighbors=6  )\n",
    "# model_last.fit(pd.concat([x_train,x_validation], ignore_index=True), pd.concat([y_train,y_validation], ignore_index=True))\n",
    "# ## Previsão sobre os dados de treino\n",
    "# yhat_train = model_last.predict( x_train )\n",
    "# precision_train = mt.precision_score(y_train, yhat_train)\n",
    "# recall_train  = mt.recall_score( y_train, yhat_train )  \n",
    "# accuracy_train  = mt.accuracy_score( y_train, yhat_train )\n",
    "# f1_score_train = mt.f1_score( y_train,yhat_train )\n",
    "\n",
    "\n",
    "# print(f\"Recall Train: {recall_train}\")\n",
    "# print(f\"Accuracy Train: {accuracy_train}\")\n",
    "# print(f\"Precision Train: {precision_train}\")\n",
    "# print(f\"F1 Score Train: {f1_score_train}\")\n"
   ]
  },
  {
   "cell_type": "code",
   "execution_count": 9,
   "metadata": {},
   "outputs": [
    {
     "name": "stdout",
     "output_type": "stream",
     "text": [
      "Recall validation: 0.8786101418071126\n",
      "Accuracy validation: 0.9391872325364394\n",
      "Precision validation: 0.9789064438745967\n",
      "F1 Score validation: 0.9260505516863604\n"
     ]
    }
   ],
   "source": [
    "# ## Previsão sobre os dados de validacao\n",
    "# yhat_validation = model_last.predict( x_validation )\n",
    "# precision_validation = mt.precision_score(y_validation, yhat_validation)\n",
    "# recall_validation  = mt.recall_score( y_validation, yhat_validation )  \n",
    "# accuracy_validation  = mt.accuracy_score( y_validation, yhat_validation )\n",
    "# f1_score_validation = mt.f1_score( y_validation,yhat_validation )\n",
    "\n",
    "\n",
    "# print(f\"Recall validation: {recall_validation}\")\n",
    "# print(f\"Accuracy validation: {accuracy_validation}\")\n",
    "# print(f\"Precision validation: {precision_validation}\")\n",
    "# print(f\"F1 Score validation: {f1_score_validation}\")\n"
   ]
  },
  {
   "cell_type": "code",
   "execution_count": 8,
   "metadata": {},
   "outputs": [
    {
     "name": "stdout",
     "output_type": "stream",
     "text": [
      "Recall_test: 0.5274967003959525\n",
      "Accuracy_test: 0.6790252191712046\n",
      "Precision_test: 0.6708818263205013\n",
      "F1 Score_test: 0.5906112999359637\n"
     ]
    }
   ],
   "source": [
    "# ## Previsão sobre os dados de teste\n",
    "# yhat_test = model_last.predict( x_test )\n",
    "# precision_test = mt.precision_score(y_test, yhat_test)\n",
    "# recall_test  = mt.recall_score( y_test, yhat_test )  \n",
    "# accuracy_test  = mt.accuracy_score( y_test, yhat_test )\n",
    "# f1_score_test = mt.f1_score( y_test,yhat_test )\n",
    "\n",
    "\n",
    "# print(f\"Recall_test: {recall_test}\")\n",
    "# print(f\"Accuracy_test: {accuracy_test}\")\n",
    "# print(f\"Precision_test: {precision_test}\")\n",
    "# print(f\"F1 Score_test: {f1_score_test}\")\n"
   ]
  },
  {
   "cell_type": "markdown",
   "metadata": {},
   "source": [
    "# Decision Tree"
   ]
  },
  {
   "cell_type": "markdown",
   "metadata": {},
   "source": [
    "# Random Forest Classifier"
   ]
  },
  {
   "cell_type": "code",
   "execution_count": 15,
   "metadata": {},
   "outputs": [],
   "source": [
    "# values = [k for k in range(1,30)]\n",
    "\n",
    "\n",
    "# val_scores = list()\n",
    "# for k in values: \n",
    "#     forest_classfier =  RandomForestClassifier( n_estimators=100, max_depth= k)\n",
    "#     forest_classfier.fit(x_train,y_train)\n",
    "\n",
    "\n",
    "#     y_pred = forest_classfier.predict(x_validation)\n",
    "#     scores = {\n",
    "#         'k': k,\n",
    "#         'accuracy': mt.accuracy_score(y_validation, y_pred),\n",
    "#         'precision': mt.precision_score(y_validation, y_pred),\n",
    "#         'recall': mt.recall_score(y_validation, y_pred),\n",
    "#         'f1_score': mt.f1_score(y_validation, y_pred)\n",
    "#      }\n",
    "\n",
    "#     val_scores.append(scores)\n",
    "\n",
    "#     print(f\"k = {k}\")\n",
    "#     print(f\"Accuracy: {scores['accuracy']}\")\n",
    "#     print(f\"Precision: {scores['precision']}\")\n",
    "#     print(f\"Recall: {scores['recall']}\")\n",
    "#     print(f\"F1 Score: {scores['f1_score']}\")\n",
    "#     print(\"\\n\")"
   ]
  },
  {
   "cell_type": "code",
   "execution_count": 16,
   "metadata": {},
   "outputs": [],
   "source": [
    "# # Encontrar o dicionário com o melhor valor de recall\n",
    "# best_recall = max(val_scores, key=lambda x: x['recall'])\n",
    "\n",
    "# # Exibir o valor de k e o valor de recall correspondente\n",
    "# print(f\"Melhor valor de Recall: {best_recall['recall']} com k = {best_recall['k']}\")\n",
    "# print(f\"Accuracy: {best_recall['accuracy']}\")\n",
    "# print(f\"Precision: {best_recall['precision']}\")\n",
    "# print(f\"F1 Score: {best_recall['f1_score']}\")\n"
   ]
  },
  {
   "cell_type": "code",
   "execution_count": 17,
   "metadata": {},
   "outputs": [],
   "source": [
    "# model_last = RandomForestClassifier( n_estimators=100, max_depth= 26  )\n",
    "# model_last.fit(pd.concat([x_train,x_validation], ignore_index=True), pd.concat([y_train,y_validation], ignore_index=True))\n",
    "\n",
    "# ## Previsão sobre os dados de treino\n",
    "# yhat_train = model_last.predict( x_train )\n",
    "# precision_train = mt.precision_score(y_train, yhat_train)\n",
    "# recall_train  = mt.recall_score( y_train, yhat_train )  \n",
    "# accuracy_train  = mt.accuracy_score( y_train, yhat_train )\n",
    "# f1_score_train = mt.f1_score( y_train,yhat_train )\n",
    "\n",
    "\n",
    "# print(f\"Recall Train: {recall_train}\")\n",
    "# print(f\"Accuracy Train: {accuracy_train}\")\n",
    "# print(f\"Precision Train: {precision_train}\")\n",
    "# print(f\"F1 Score Train: {f1_score_train}\")\n"
   ]
  },
  {
   "cell_type": "code",
   "execution_count": 18,
   "metadata": {},
   "outputs": [],
   "source": [
    "# model_last = RandomForestClassifier( n_estimators=100, max_depth= 26  )\n",
    "# model_last.fit(pd.concat([x_train,x_validation], ignore_index=True), pd.concat([y_train,y_validation], ignore_index=True))\n",
    "\n",
    "# ## Previsão sobre os dados de validacao\n",
    "# yhat_validation = model_last.predict( x_validation )\n",
    "# precision_validation = mt.precision_score(y_validation, yhat_validation)\n",
    "# recall_validation  = mt.recall_score( y_validation, yhat_validation )  \n",
    "# accuracy_validation  = mt.accuracy_score( y_validation, yhat_validation )\n",
    "# f1_score_validation = mt.f1_score( y_validation,yhat_validation )\n",
    "\n",
    "\n",
    "# print(f\"Recall validation: {recall_validation}\")\n",
    "# print(f\"Accuracy validation: {accuracy_validation}\")\n",
    "# print(f\"Precision validation: {precision_validation}\")\n",
    "# print(f\"F1 Score validation: {f1_score_validation}\")"
   ]
  },
  {
   "cell_type": "code",
   "execution_count": 19,
   "metadata": {},
   "outputs": [],
   "source": [
    "# model_last = RandomForestClassifier( n_estimators=100, max_depth= 26  )\n",
    "# model_last.fit(pd.concat([x_train,x_validation], ignore_index=True), pd.concat([y_train,y_validation], ignore_index=True))\n",
    "\n",
    "# ## Previsão sobre os dados de validacao\n",
    "# yhat_test = model_last.predict( x_test )\n",
    "# precision_test = mt.precision_score(y_test, yhat_test)\n",
    "# recall_test  = mt.recall_score( y_test, yhat_test )  \n",
    "# accuracy_test  = mt.accuracy_score( y_test, yhat_test )\n",
    "# f1_score_test = mt.f1_score( y_test,yhat_test )\n",
    "\n",
    "\n",
    "# print(f\"Recall test: {recall_test}\")\n",
    "# print(f\"Accuracy test: {accuracy_test}\")\n",
    "# print(f\"Precision test: {precision_test}\")\n",
    "# print(f\"F1 Score test: {f1_score_test}\")"
   ]
  },
  {
   "cell_type": "markdown",
   "metadata": {},
   "source": [
    "# Logistic Regression"
   ]
  },
  {
   "cell_type": "code",
   "execution_count": 20,
   "metadata": {},
   "outputs": [],
   "source": [
    "# values = [50,100,150, 200]\n",
    "# val_scores = list()\n",
    "\n",
    "# for i in values: \n",
    "\n",
    "#     # Instanciando o modelo de Regressão Logística\n",
    "#     model = LogisticRegression(max_iter= i)\n",
    "#     # Treinando o modelo de Regressão Logística\n",
    "#     model.fit(x_train, y_train)\n",
    "#     # predict\n",
    "#     yhat_validation = model.predict( x_validation )\n",
    "#     scores = {\n",
    "#          'max iter': i,\n",
    "#          'accuracy': mt.accuracy_score(y_validation, yhat_validation),\n",
    "#          'precision': mt.precision_score(y_validation, yhat_validation),\n",
    "#          'recall': mt.recall_score(y_validation, yhat_validation),\n",
    "#          'f1_score': mt.f1_score(y_validation, yhat_validation)\n",
    "#       }\n",
    "#     val_scores.append(scores)"
   ]
  },
  {
   "cell_type": "code",
   "execution_count": 21,
   "metadata": {},
   "outputs": [],
   "source": [
    "# # Encontrar o dicionário com o melhor valor de recall\n",
    "# best_recall = max(val_scores, key=lambda x: x['recall'])\n",
    "\n",
    "# # Exibir o valor de k e o valor de recall correspondente\n",
    "# print(f\"Melhor valor de Recall: {best_recall['recall']} com max_iter = {best_recall['max iter']}\")\n",
    "# print(f\"Accuracy: {best_recall['accuracy']}\")\n",
    "# print(f\"Precision: {best_recall['precision']}\")\n",
    "# print(f\"F1 Score: {best_recall['f1_score']}\")\n"
   ]
  },
  {
   "cell_type": "code",
   "execution_count": 22,
   "metadata": {},
   "outputs": [],
   "source": [
    "# model_last = LogisticRegression( max_iter=50  )\n",
    "# model_last.fit(pd.concat([x_train,x_validation], ignore_index=True), pd.concat([y_train,y_validation], ignore_index=True))\n",
    "\n",
    "# ## Previsão sobre os dados de treino\n",
    "# yhat_train = model_last.predict( x_train )\n",
    "# precision_train = mt.precision_score(y_train, yhat_train)\n",
    "# recall_train  = mt.recall_score( y_train, yhat_train )  \n",
    "# accuracy_train  = mt.accuracy_score( y_train, yhat_train )\n",
    "# f1_score_train = mt.f1_score( y_train,yhat_train )\n",
    "\n",
    "\n",
    "# print(f\"Accuracy Train: {accuracy_train}\")\n",
    "# print(f\"Precision Train: {precision_train}\")\n",
    "# print(f\"Recall Train: {recall_train}\")\n",
    "# print(f\"F1 Score Train: {f1_score_train}\")"
   ]
  },
  {
   "cell_type": "code",
   "execution_count": 23,
   "metadata": {},
   "outputs": [],
   "source": [
    "# ## Previsão sobre os dados de validacao\n",
    "# yhat_validation = model_last.predict( x_validation )\n",
    "# precision_validation = mt.precision_score(y_validation, yhat_validation)\n",
    "# recall_validation  = mt.recall_score( y_validation, yhat_validation )  \n",
    "# accuracy_validation  = mt.accuracy_score( y_validation, yhat_validation )\n",
    "# f1_score_validation = mt.f1_score( y_validation,yhat_validation )\n",
    "\n",
    "\n",
    "# print(f\"Accuracy validation: {accuracy_validation}\")\n",
    "# print(f\"Precision validation: {precision_validation}\")\n",
    "# print(f\"Recall validation: {recall_validation}\")\n",
    "# print(f\"F1 Score validation: {f1_score_validation}\")"
   ]
  },
  {
   "cell_type": "code",
   "execution_count": 24,
   "metadata": {},
   "outputs": [],
   "source": [
    "# ## Previsão sobre os dados de test\n",
    "# yhat_test = model_last.predict( x_test )\n",
    "# precision_test = mt.precision_score(y_test, yhat_test)\n",
    "# recall_test  = mt.recall_score( y_test, yhat_test )  \n",
    "# accuracy_test  = mt.accuracy_score( y_test, yhat_test )\n",
    "# f1_score_test = mt.f1_score( y_test,yhat_test )\n",
    "\n",
    "\n",
    "# print(f\"Accuracy test: {accuracy_test}\")\n",
    "# print(f\"Precision test: {precision_test}\")\n",
    "# print(f\"Recall test: {recall_test}\")\n",
    "# print(f\"F1 Score test: {f1_score_test}\")"
   ]
  },
  {
   "cell_type": "code",
   "execution_count": 25,
   "metadata": {},
   "outputs": [
    {
     "name": "stdout",
     "output_type": "stream",
     "text": [
      "k = 2\n",
      "Accuracy: 0.8564947392129734\n",
      "Precision: 0.8300241775954282\n",
      "Recall: 0.8411166382062514\n",
      "F1 Score: 0.8355335939228556\n",
      "\n",
      "\n",
      "k = 4\n",
      "Accuracy: 0.8934650407027254\n",
      "Precision: 0.9241690329046267\n",
      "Recall: 0.8215903185091692\n",
      "F1 Score: 0.8698659749243407\n",
      "\n",
      "\n",
      "k = 6\n",
      "Accuracy: 0.9225843817368641\n",
      "Precision: 0.9001084990958409\n",
      "Recall: 0.9238993243744895\n",
      "F1 Score: 0.9118487579687844\n",
      "\n",
      "\n",
      "k = 8\n",
      "Accuracy: 0.9400559863573474\n",
      "Precision: 0.9479697390767331\n",
      "Recall: 0.9117232162744079\n",
      "F1 Score: 0.9294932445218181\n",
      "\n",
      "\n",
      "k = 10\n",
      "Accuracy: 0.9469094887222884\n",
      "Precision: 0.953704414587332\n",
      "Recall: 0.9222659440196006\n",
      "F1 Score: 0.9377217483203745\n",
      "\n",
      "\n",
      "k = 12\n",
      "Accuracy: 0.9515428424337977\n",
      "Precision: 0.9583173703164508\n",
      "Recall: 0.928576731754399\n",
      "F1 Score: 0.9432126696832579\n",
      "\n",
      "\n",
      "k = 14\n",
      "Accuracy: 0.9525081244570288\n",
      "Precision: 0.9570851436847321\n",
      "Recall: 0.9322147152721063\n",
      "F1 Score: 0.9444862343914547\n",
      "\n",
      "\n",
      "k = 16\n",
      "Accuracy: 0.9501592715338332\n",
      "Precision: 0.9498792270531401\n",
      "Recall: 0.9342935629965105\n",
      "F1 Score: 0.9420219336003294\n",
      "\n",
      "\n",
      "k = 18\n",
      "Accuracy: 0.949998391196628\n",
      "Precision: 0.9476294236982493\n",
      "Recall: 0.9363724107209147\n",
      "F1 Score: 0.9419672865785346\n",
      "\n",
      "\n"
     ]
    }
   ],
   "source": [
    "# values = [k for k in range(2,20, 2)]\n",
    "\n",
    "\n",
    "# val_scores = list()\n",
    "\n",
    "# for k in values: \n",
    "#     tree_clf =  tr.DecisionTreeClassifier( max_depth = k )\n",
    "#     tree_clf.fit( x_train,y_train )\n",
    "\n",
    "\n",
    "#     y_pred = tree_clf.predict(x_validation)\n",
    "#     scores = {\n",
    "#         'k': k,\n",
    "#         'accuracy': mt.accuracy_score(y_validation, y_pred),\n",
    "#         'precision': mt.precision_score(y_validation, y_pred),\n",
    "#         'recall': mt.recall_score(y_validation, y_pred),\n",
    "#         'f1_score': mt.f1_score(y_validation, y_pred)\n",
    "#      }\n",
    "\n",
    "#     val_scores.append(scores)\n",
    "\n",
    "#     print(f\"k = {k}\")\n",
    "#     print(f\"Accuracy: {scores['accuracy']}\")\n",
    "#     print(f\"Precision: {scores['precision']}\")\n",
    "#     print(f\"Recall: {scores['recall']}\")\n",
    "#     print(f\"F1 Score: {scores['f1_score']}\")\n",
    "#     print(\"\\n\")"
   ]
  },
  {
   "cell_type": "code",
   "execution_count": 26,
   "metadata": {},
   "outputs": [
    {
     "name": "stdout",
     "output_type": "stream",
     "text": [
      "Melhor valor de Recall: 0.9363724107209147 com k = 18\n",
      "Accuracy: 0.949998391196628\n",
      "Precision: 0.9476294236982493\n",
      "F1 Score: 0.9419672865785346\n"
     ]
    }
   ],
   "source": [
    "# # Encontrar o dicionário com o melhor valor de recall\n",
    "# best_recall = max(val_scores, key=lambda x: x['recall'])\n",
    "\n",
    "# # Exibir o valor de k e o valor de recall correspondente\n",
    "# print(f\"Melhor valor de Recall: {best_recall['recall']} com k = {best_recall['k']}\")\n",
    "# print(f\"Accuracy: {best_recall['accuracy']}\")\n",
    "# print(f\"Precision: {best_recall['precision']}\")\n",
    "# print(f\"F1 Score: {best_recall['f1_score']}\")\n"
   ]
  },
  {
   "cell_type": "code",
   "execution_count": 27,
   "metadata": {},
   "outputs": [
    {
     "name": "stdout",
     "output_type": "stream",
     "text": [
      "Accuracy Train: 0.9207750120664691\n",
      "Precision Train: 0.9035796222382853\n",
      "Recall Train: 0.914821178566883\n",
      "F1 Score Train: 0.9091656521257925\n"
     ]
    }
   ],
   "source": [
    "# model_last = tr.DecisionTreeClassifier( max_depth= 6  )\n",
    "# model_last.fit(pd.concat([x_train,x_validation], ignore_index=True), pd.concat([y_train,y_validation], ignore_index=True))\n",
    "\n",
    "# ## Previsão sobre os dados de treino\n",
    "# yhat_train = model_last.predict( x_train )\n",
    "# precision_train = mt.precision_score(y_train, yhat_train)\n",
    "# recall_train  = mt.recall_score( y_train, yhat_train )  \n",
    "# accuracy_train  = mt.accuracy_score( y_train, yhat_train )\n",
    "# f1_score_train = mt.f1_score( y_train,yhat_train )\n",
    "\n",
    "\n",
    "# print(f\"Accuracy Train: {accuracy_train}\")\n",
    "# print(f\"Precision Train: {precision_train}\")\n",
    "# print(f\"Recall Train: {recall_train}\")\n",
    "# print(f\"F1 Score Train: {f1_score_train}\")\n"
   ]
  },
  {
   "cell_type": "code",
   "execution_count": 28,
   "metadata": {},
   "outputs": [
    {
     "name": "stdout",
     "output_type": "stream",
     "text": [
      "Accuracy validation: 0.9208468740950481\n",
      "Precision validation: 0.903289618287054\n",
      "Recall validation: 0.9153611997921153\n",
      "F1 Score validation: 0.9092853455269563\n"
     ]
    }
   ],
   "source": [
    "\n",
    "# ## Previsão sobre os dados de validacao\n",
    "# yhat_validation = model_last.predict( x_validation )\n",
    "# precision_validation = mt.precision_score(y_validation, yhat_validation)\n",
    "# recall_validation  = mt.recall_score( y_validation, yhat_validation )  \n",
    "# accuracy_validation  = mt.accuracy_score( y_validation, yhat_validation )\n",
    "# f1_score_validation = mt.f1_score( y_validation,yhat_validation )\n",
    "\n",
    "\n",
    "# print(f\"Accuracy validation: {accuracy_validation}\")\n",
    "# print(f\"Precision validation: {precision_validation}\")\n",
    "# print(f\"Recall validation: {recall_validation}\")\n",
    "# print(f\"F1 Score validation: {f1_score_validation}\")"
   ]
  },
  {
   "cell_type": "code",
   "execution_count": 29,
   "metadata": {},
   "outputs": [
    {
     "name": "stdout",
     "output_type": "stream",
     "text": [
      "Accuracy test: 0.9195921677673502\n",
      "Precision test: 0.9016180669723977\n",
      "Recall test: 0.9168499780026397\n",
      "F1 Score test: 0.9091702294738679\n"
     ]
    }
   ],
   "source": [
    "\n",
    "# ## Previsão sobre os dados de test\n",
    "# yhat_test = model_last.predict( x_test )\n",
    "# precision_test = mt.precision_score(y_test, yhat_test)\n",
    "# recall_test  = mt.recall_score( y_test, yhat_test )  \n",
    "# accuracy_test  = mt.accuracy_score( y_test, yhat_test )\n",
    "# f1_score_test = mt.f1_score( y_test,yhat_test )\n",
    "\n",
    "\n",
    "# print(f\"Accuracy test: {accuracy_test}\")\n",
    "# print(f\"Precision test: {precision_test}\")\n",
    "# print(f\"Recall test: {recall_test}\")\n",
    "# print(f\"F1 Score test: {f1_score_test}\")"
   ]
  },
  {
   "cell_type": "code",
   "execution_count": null,
   "metadata": {},
   "outputs": [],
   "source": []
  }
 ],
 "metadata": {
  "kernelspec": {
   "display_name": "fundamentos_ml",
   "language": "python",
   "name": "python3"
  },
  "language_info": {
   "codemirror_mode": {
    "name": "ipython",
    "version": 3
   },
   "file_extension": ".py",
   "mimetype": "text/x-python",
   "name": "python",
   "nbconvert_exporter": "python",
   "pygments_lexer": "ipython3",
   "version": "3.10.12"
  }
 },
 "nbformat": 4,
 "nbformat_minor": 2
}
